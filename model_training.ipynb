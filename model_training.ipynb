{
  "nbformat": 4,
  "nbformat_minor": 0,
  "metadata": {
    "accelerator": "GPU",
    "colab": {
      "name": "model training.ipynb",
      "provenance": [],
      "collapsed_sections": []
    },
    "kernelspec": {
      "display_name": "Python 3",
      "name": "python3"
    }
  },
  "cells": [
    {
      "cell_type": "code",
      "metadata": {
        "id": "CLPuPfn70Mq0"
      },
      "source": [
        "# import the necessary packages\n",
        "from tensorflow.keras.preprocessing.image import ImageDataGenerator\n",
        "from tensorflow.keras.applications import MobileNetV2\n",
        "from tensorflow.keras.layers import AveragePooling2D\n",
        "from tensorflow.keras.layers import Dropout\n",
        "from tensorflow.keras.layers import Flatten\n",
        "from tensorflow.keras.layers import Dense\n",
        "from tensorflow.keras.layers import Input\n",
        "from tensorflow.keras.models import Model\n",
        "from tensorflow.keras.optimizers import Adam\n",
        "from tensorflow.keras.applications.mobilenet_v2 import preprocess_input\n",
        "from tensorflow.keras.preprocessing.image import img_to_array\n",
        "from tensorflow.keras.preprocessing.image import load_img\n",
        "from tensorflow.keras.utils import to_categorical\n",
        "from sklearn.preprocessing import LabelBinarizer\n",
        "from sklearn.model_selection import train_test_split\n",
        "from sklearn.metrics import classification_report\n",
        "from imutils import paths\n",
        "import matplotlib.pyplot as plt\n",
        "import numpy as np\n",
        "import os\n",
        "\n",
        "\n"
      ],
      "execution_count": null,
      "outputs": []
    },
    {
      "cell_type": "code",
      "metadata": {
        "id": "61EiP0IYJ73H"
      },
      "source": [
        "# initialize the initial learning rate, number of epochs to train for,\n",
        "# and batch size\n",
        "INIT_LR = 1e-4 #the loss calculated properly\n",
        "EPOCHS = 20\n",
        "BS = 32\n",
        "\n"
      ],
      "execution_count": null,
      "outputs": []
    },
    {
      "cell_type": "code",
      "metadata": {
        "id": "mkV_nKoYKWTv"
      },
      "source": [
        "DIRECTORY = #dataset directory\n",
        "CATEGORIES = [\"with_mask\", \"without_mask\"]"
      ],
      "execution_count": null,
      "outputs": []
    },
    {
      "cell_type": "code",
      "metadata": {
        "colab": {
          "background_save": true,
          "base_uri": "https://localhost:8080/"
        },
        "id": "REDOkI-pKbJN",
        "outputId": "7db489d5-8c7f-4401-c01e-efea5a6257a2"
      },
      "source": [
        "# grab the list of images in our dataset directory, then initialize\n",
        "# the list of data (i.e., images) and class images\n",
        "print(\"[INFO] loading images...\")\n",
        "\n",
        "data = []\n",
        "labels = []\n",
        "\n",
        "for category in CATEGORIES:\n",
        "    path = os.path.join(DIRECTORY, category)\n",
        "    for img in os.listdir(path):\n",
        "    \timg_path = os.path.join(path, img)\n",
        "    \timage = load_img(img_path, target_size=(224, 224))\n",
        "    \timage = img_to_array(image)\n",
        "    \timage = preprocess_input(image)#this step is necessary if we are going to deal with MobileNet\n",
        "\n",
        "    \tdata.append(image)\n",
        "    \tlabels.append(category)#we have to convert the text labels to array--> label binarizer method --> convert label variables into \n",
        "\t\t\t#categorical variables\n",
        "\n",
        "# convert the data and labels to NumPy arrays\n",
        "#data = np.array(data, dtype=\"float32\")\n",
        "#labels = np.array(labels)"
      ],
      "execution_count": null,
      "outputs": [
        {
          "output_type": "stream",
          "text": [
            "[INFO] loading images...\n"
          ],
          "name": "stdout"
        }
      ]
    },
    {
      "cell_type": "code",
      "metadata": {
        "id": "mPnEGrtl3_Va"
      },
      "source": [
        "# perform one-hot encoding on the labels: to obtain numerical variables(0 and 1)\n",
        "lb = LabelBinarizer()\n",
        "labels = lb.fit_transform(labels)\n",
        "labels = to_categorical(labels)#Converts a class vector (integers) to binary class matrix.\n",
        "\n",
        "#convert variables to numpy arrays because only with arrays our DL model will work\n",
        "data = np.array(data, dtype=\"float32\")\n",
        "labels = np.array(labels)\n",
        "\n",
        "(trainX, testX, trainY, testY) = train_test_split(data, labels,\n",
        "\ttest_size=0.20, stratify=labels, random_state=42)#random_state is to always obtain same results \n",
        "\n",
        "# construct the training image generator for data augmentation\n",
        "aug = ImageDataGenerator(\n",
        "\trotation_range=20,\n",
        "\tzoom_range=0.15,\n",
        "\twidth_shift_range=0.2,\n",
        "\theight_shift_range=0.2,\n",
        "\tshear_range=0.15,\n",
        "\thorizontal_flip=True,\n",
        "\tfill_mode=\"nearest\")"
      ],
      "execution_count": null,
      "outputs": []
    },
    {
      "cell_type": "code",
      "metadata": {
        "colab": {
          "base_uri": "https://localhost:8080/",
          "height": 89
        },
        "id": "t1T3NrtxLnXC",
        "outputId": "a4584da5-7e16-48af-928d-fb84d3ae8fc5"
      },
      "source": [
        "# load the MobileNetV2 network, ensuring the head FC layer sets are\n",
        "# left off\n",
        "\n",
        "##mobilenet are faster than cnns in order of process(they use lesser parameters) but it's less accurate\n",
        "baseModel = MobileNetV2(weights=\"imagenet\", include_top=False,\n",
        "\tinput_tensor=Input(shape=(224, 224, 3)))\n",
        "\n",
        "# construct the head of the model that will be placed on top of the\n",
        "# the base model\n",
        "headModel = baseModel.output\n",
        "headModel = AveragePooling2D(pool_size=(7, 7))(headModel)\n",
        "headModel = Flatten(name=\"flatten\")(headModel)\n",
        "headModel = Dense(128, activation=\"relu\")(headModel)\n",
        "headModel = Dropout(0.5)(headModel)\n",
        "headModel = Dense(2, activation=\"softmax\")(headModel)\n",
        "\n",
        "# place the head FC model on top of the base model (this will become\n",
        "# the actual model we will train)\n",
        "model = Model(inputs=baseModel.input, outputs=headModel)\n",
        "\n",
        "# loop over all layers in the base model and freeze them so they will\n",
        "# *not* be updated during the first training process\n",
        "for layer in baseModel.layers:\n",
        "\tlayer.trainable = False"
      ],
      "execution_count": null,
      "outputs": [
        {
          "output_type": "stream",
          "text": [
            "WARNING:tensorflow:`input_shape` is undefined or non-square, or `rows` is not in [96, 128, 160, 192, 224]. Weights for input shape (224, 224) will be loaded as the default.\n",
            "Downloading data from https://storage.googleapis.com/tensorflow/keras-applications/mobilenet_v2/mobilenet_v2_weights_tf_dim_ordering_tf_kernels_1.0_224_no_top.h5\n",
            "9412608/9406464 [==============================] - 0s 0us/step\n"
          ],
          "name": "stdout"
        }
      ]
    },
    {
      "cell_type": "code",
      "metadata": {
        "colab": {
          "base_uri": "https://localhost:8080/",
          "height": 722
        },
        "id": "zKX1eI35L5y6",
        "outputId": "09c37587-db54-48c2-c30f-5117a4e8a6dd"
      },
      "source": [
        "# compile our model\n",
        "print(\"[INFO] compiling model...\")\n",
        "opt = Adam(lr=INIT_LR, decay=INIT_LR / EPOCHS)\n",
        "model.compile(loss=\"binary_crossentropy\", optimizer=opt,\n",
        "\tmetrics=[\"accuracy\"])\n",
        "\n",
        "# train the head of the network\n",
        "print(\"[INFO] training head...\")\n",
        "H = model.fit(\n",
        "\taug.flow(trainX, trainY, batch_size=BS),\n",
        "\tsteps_per_epoch=len(trainX) // BS,\n",
        "\tvalidation_data=(testX, testY),\n",
        "\tvalidation_steps=len(testX) // BS,\n",
        "\tepochs=EPOCHS)"
      ],
      "execution_count": null,
      "outputs": [
        {
          "output_type": "stream",
          "text": [
            "[INFO] compiling model...\n",
            "[INFO] training head...\n",
            "Epoch 1/20\n",
            "95/95 [==============================] - 32s 334ms/step - loss: 0.3692 - accuracy: 0.8352 - val_loss: 0.1147 - val_accuracy: 0.9648\n",
            "Epoch 2/20\n",
            "95/95 [==============================] - 30s 317ms/step - loss: 0.1121 - accuracy: 0.9585 - val_loss: 0.0721 - val_accuracy: 0.9739\n",
            "Epoch 3/20\n",
            "95/95 [==============================] - 30s 317ms/step - loss: 0.0863 - accuracy: 0.9707 - val_loss: 0.0538 - val_accuracy: 0.9831\n",
            "Epoch 4/20\n",
            "95/95 [==============================] - 30s 318ms/step - loss: 0.0634 - accuracy: 0.9799 - val_loss: 0.0453 - val_accuracy: 0.9857\n",
            "Epoch 5/20\n",
            "95/95 [==============================] - 30s 319ms/step - loss: 0.0537 - accuracy: 0.9829 - val_loss: 0.0426 - val_accuracy: 0.9870\n",
            "Epoch 6/20\n",
            "95/95 [==============================] - 30s 320ms/step - loss: 0.0473 - accuracy: 0.9852 - val_loss: 0.0382 - val_accuracy: 0.9883\n",
            "Epoch 7/20\n",
            "95/95 [==============================] - 30s 318ms/step - loss: 0.0467 - accuracy: 0.9852 - val_loss: 0.0379 - val_accuracy: 0.9831\n",
            "Epoch 8/20\n",
            "95/95 [==============================] - 30s 317ms/step - loss: 0.0345 - accuracy: 0.9858 - val_loss: 0.0320 - val_accuracy: 0.9896\n",
            "Epoch 9/20\n",
            "95/95 [==============================] - 30s 319ms/step - loss: 0.0423 - accuracy: 0.9852 - val_loss: 0.0351 - val_accuracy: 0.9857\n",
            "Epoch 10/20\n",
            "95/95 [==============================] - 30s 318ms/step - loss: 0.0307 - accuracy: 0.9914 - val_loss: 0.0304 - val_accuracy: 0.9896\n",
            "Epoch 11/20\n",
            "95/95 [==============================] - 30s 317ms/step - loss: 0.0345 - accuracy: 0.9865 - val_loss: 0.0335 - val_accuracy: 0.9857\n",
            "Epoch 12/20\n",
            "95/95 [==============================] - 30s 319ms/step - loss: 0.0278 - accuracy: 0.9914 - val_loss: 0.0293 - val_accuracy: 0.9883\n",
            "Epoch 13/20\n",
            "95/95 [==============================] - 30s 317ms/step - loss: 0.0345 - accuracy: 0.9898 - val_loss: 0.0271 - val_accuracy: 0.9896\n",
            "Epoch 14/20\n",
            "95/95 [==============================] - 30s 319ms/step - loss: 0.0305 - accuracy: 0.9908 - val_loss: 0.0268 - val_accuracy: 0.9909\n",
            "Epoch 15/20\n",
            "95/95 [==============================] - 30s 319ms/step - loss: 0.0234 - accuracy: 0.9901 - val_loss: 0.0228 - val_accuracy: 0.9948\n",
            "Epoch 16/20\n",
            "95/95 [==============================] - 30s 320ms/step - loss: 0.0222 - accuracy: 0.9924 - val_loss: 0.0220 - val_accuracy: 0.9948\n",
            "Epoch 17/20\n",
            "95/95 [==============================] - 30s 319ms/step - loss: 0.0290 - accuracy: 0.9898 - val_loss: 0.0289 - val_accuracy: 0.9896\n",
            "Epoch 18/20\n",
            "95/95 [==============================] - 30s 318ms/step - loss: 0.0253 - accuracy: 0.9914 - val_loss: 0.0319 - val_accuracy: 0.9870\n",
            "Epoch 19/20\n",
            "95/95 [==============================] - 30s 319ms/step - loss: 0.0249 - accuracy: 0.9908 - val_loss: 0.0229 - val_accuracy: 0.9909\n",
            "Epoch 20/20\n",
            "95/95 [==============================] - 30s 319ms/step - loss: 0.0237 - accuracy: 0.9918 - val_loss: 0.0177 - val_accuracy: 0.9948\n"
          ],
          "name": "stdout"
        }
      ]
    },
    {
      "cell_type": "code",
      "metadata": {
        "colab": {
          "base_uri": "https://localhost:8080/",
          "height": 207
        },
        "id": "HiBFWrhaML3D",
        "outputId": "9e68fa60-d601-4c7a-d416-835ffade9c3e"
      },
      "source": [
        "# make predictions on the testing set\n",
        "print(\"[INFO] evaluating network...\")\n",
        "predIdxs = model.predict(testX, batch_size=BS)\n",
        "\n",
        "# for each image in the testing set we need to find the index of the\n",
        "# label with corresponding largest predicted probability\n",
        "predIdxs = np.argmax(predIdxs, axis=1)\n",
        "\n",
        "# show a nicely formatted classification report\n",
        "print(classification_report(testY.argmax(axis=1), predIdxs,\n",
        "\ttarget_names=lb.classes_))\n",
        "\n",
        "# serialize the model to disk\n",
        "print(\"[INFO] saving mask detector model...\")\n",
        "model.save(\"mask_detector.model\", save_format=\"h5\")"
      ],
      "execution_count": null,
      "outputs": [
        {
          "output_type": "stream",
          "text": [
            "[INFO] evaluating network...\n",
            "              precision    recall  f1-score   support\n",
            "\n",
            "   with_mask       0.99      0.99      0.99       383\n",
            "without_mask       0.99      0.99      0.99       384\n",
            "\n",
            "    accuracy                           0.99       767\n",
            "   macro avg       0.99      0.99      0.99       767\n",
            "weighted avg       0.99      0.99      0.99       767\n",
            "\n",
            "[INFO] saving mask detector model...\n"
          ],
          "name": "stdout"
        }
      ]
    },
    {
      "cell_type": "code",
      "metadata": {
        "colab": {
          "base_uri": "https://localhost:8080/",
          "height": 299
        },
        "id": "ny-QkiWXO7hz",
        "outputId": "6cd5331e-d6aa-442d-d259-1252fb49a1ab"
      },
      "source": [
        "# plot the training loss and accuracy\n",
        "N = EPOCHS\n",
        "plt.style.use(\"ggplot\")\n",
        "plt.figure()\n",
        "plt.plot(np.arange(0, N), H.history[\"loss\"], label=\"train_loss\")\n",
        "plt.plot(np.arange(0, N), H.history[\"val_loss\"], label=\"val_loss\")\n",
        "plt.plot(np.arange(0, N), H.history[\"accuracy\"], label=\"train_acc\")\n",
        "plt.plot(np.arange(0, N), H.history[\"val_accuracy\"], label=\"val_acc\")\n",
        "plt.title(\"Training Loss and Accuracy\")\n",
        "plt.xlabel(\"Epoch #\")\n",
        "plt.ylabel(\"Loss/Accuracy\")\n",
        "plt.legend(loc=\"lower left\")\n",
        "plt.savefig(\"plot.png\")"
      ],
      "execution_count": null,
      "outputs": [
        {
          "output_type": "display_data",
          "data": {
            "image/png": "[encoded data removed]",
            "text/plain": [
              "<Figure size 432x288 with 1 Axes>"
            ]
          },
          "metadata": {
            "tags": []
          }
        }
      ]
    },
    {
      "cell_type": "code",
      "metadata": {
        "id": "ElBbxl4KPLlq"
      },
      "source": [
        ""
      ],
      "execution_count": null,
      "outputs": []
    }
  ]
}